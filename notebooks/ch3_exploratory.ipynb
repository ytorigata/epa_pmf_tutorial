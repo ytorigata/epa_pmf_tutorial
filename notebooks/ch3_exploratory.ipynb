{
 "cells": [
  {
   "cell_type": "markdown",
   "id": "07732462-ff53-4369-a4bd-915ec346b404",
   "metadata": {},
   "source": [
    "# 3. Exploratory Analysis with the NAPS data\n",
    "\n",
    "We will explorer the NAPS data we downloaded. We will use BURNABY SOUTH data."
   ]
  },
  {
   "cell_type": "code",
   "execution_count": null,
   "id": "4e6aa3c1-d752-4b08-92ca-2eae54cb873b",
   "metadata": {},
   "outputs": [],
   "source": [
    "import numpy as np\n",
    "import pandas as pd\n",
    "import sys\n",
    "from pathlib import Path\n",
    "import matplotlib.pyplot as plt\n",
    "\n",
    "# set project root\n",
    "sys.path.insert(0, str(Path.cwd().parent))\n",
    "\n",
    "from src.config import *"
   ]
  },
  {
   "cell_type": "code",
   "execution_count": null,
   "id": "7ee9d840-be75-4d3d-8ca5-e2322e36e67d",
   "metadata": {},
   "outputs": [],
   "source": [
    "# fixed for this tutorial\n",
    "site_id = 100119\n"
   ]
  },
  {
   "cell_type": "markdown",
   "id": "0803b231-65d3-404f-a640-96ddc2b9c3da",
   "metadata": {},
   "source": [
    "## 3.1. Choose a File to Explore\n",
    "\n",
    "We’ve saved cleaned measurement data for multiple years and types.\n",
    "\n",
    "In this section, you can choose any of the processed CSV files and explore its contents—for example, to see time series patterns, detect missing values, or compare analytes.\n",
    "\n",
    "The code below lists all available files in the `data/processed/` directory.\n"
   ]
  },
  {
   "cell_type": "code",
   "execution_count": null,
   "id": "fc166378-745b-49bd-b6dc-d7696a732e52",
   "metadata": {
    "scrolled": true
   },
   "outputs": [],
   "source": [
    "csv_files = sorted(PROCESSED_DATA_DIR.glob(\"*.csv\"))\n",
    "\n",
    "# display the list of all CSV files\n",
    "print(\"Available files:\")\n",
    "for i, file in enumerate(csv_files):\n",
    "    print(f\"[{i}] {file.name}\")\n",
    "    "
   ]
  },
  {
   "cell_type": "code",
   "execution_count": null,
   "id": "94b69400-c354-4399-ab0a-ce85150b9cac",
   "metadata": {},
   "outputs": [],
   "source": [
    "year = 2023\n",
    "key = 'nt'\n"
   ]
  },
  {
   "cell_type": "code",
   "execution_count": null,
   "id": "9efb596e-6226-4d97-8b16-e81aa02b317d",
   "metadata": {
    "scrolled": true
   },
   "outputs": [],
   "source": [
    "csv_path = PROCESSED_DATA_DIR / f\"{year}_{site_id}_{key}.csv\"\n",
    "df = pd.read_csv(\n",
    "    csv_path,\n",
    "    index_col=\"sampling_date\",  # column header you wrote out\n",
    "    parse_dates=True,           # turn it into pandas-datetime\n",
    ")\n",
    "display(df.head(3))\n"
   ]
  },
  {
   "cell_type": "markdown",
   "id": "8f952eb7-511d-4cf3-b87e-c93429f57ccc",
   "metadata": {},
   "source": [
    "## 3.2. Example: Plot a Time Series of Raw Data\n",
    "\n",
    "To help you get started with exploring the data, here’s a sample plot showing how **Selenium (Se)** concentrations and their detection limits (Se-MDL) vary over time.\n",
    "\n",
    "This example:\n",
    "\n",
    "- Replaces `-999` with `NaN` so invalid values aren’t plotted\n",
    "- Separates routine samples (`R`) and field blanks (`FB`) using the `sampling_type` column\n",
    "- Plots Se and Se-MDL values with different markers for each sampling type\n",
    "\n",
    "You can adapt this code to explore other analytes, compare years, or investigate missing data patterns.\n"
   ]
  },
  {
   "cell_type": "code",
   "execution_count": null,
   "id": "037bd34e-477f-4bec-9696-b9baabb6f745",
   "metadata": {},
   "outputs": [],
   "source": [
    "analyte = \"Se\"\n",
    "analyte_mdl = analyte + '-MDL'\n",
    "\n",
    "# replace -999 with NaN so they won’t be plotted\n",
    "df_plot = df.replace(-999, np.nan)\n",
    "\n",
    "# define masks\n",
    "routine = df_plot['sampling_type'] == 'R'\n",
    "blank   = df_plot['sampling_type'] == 'TB'\n",
    "\n",
    "# plot\n",
    "plt.figure(figsize=(10, 5))\n",
    "\n",
    "# routine analyte and its MDL\n",
    "plt.plot(df_plot.index[routine], df_plot[analyte][routine], \n",
    "         'o', label=f'{analyte} (Routine)')\n",
    "plt.plot(df_plot.index[routine], df_plot[analyte_mdl][routine], \n",
    "         'o', markerfacecolor='none', label=f'{analyte}-MDL (Routine)')\n",
    "\n",
    "# Field Blank analyte and its MDL\n",
    "plt.plot(df_plot.index[blank], df_plot[analyte][blank],\n",
    "         's', label=f'{analyte} (Travel Blank)')\n",
    "plt.plot(df_plot.index[blank], df_plot[analyte_mdl][blank],\n",
    "         's', markerfacecolor='none', label=f'{analyte}-MDL (Travel Blank)')\n",
    "\n",
    "# labels etc.\n",
    "plt.xlabel('Date')\n",
    "plt.ylabel(f'{analyte} Concentration (ng/m$^3$)')\n",
    "plt.title(f'{analyte} and Detection Limit by Sampling Type')\n",
    "plt.legend()\n",
    "plt.tight_layout()\n",
    "plt.show()\n"
   ]
  },
  {
   "cell_type": "markdown",
   "id": "b5d45cbc-2608-475d-9723-4ea19d1a4d70",
   "metadata": {},
   "source": [
    "## 3.3. Example: Time Series with Rolling Mean\n",
    "\n",
    "Let’s plot a time series of an analyte (e.g., Selenium) along with a **centered rolling mean**, which helps reveal broader trends by smoothing out daily fluctuations.\n",
    "\n",
    "In this example:\n",
    "\n",
    "- We remove invalid values (`-999`)\n",
    "- Plot both the raw concentration and a 7-point rolling average\n",
    "- Use only routine samples (`sampling_type == 'R'`)\n"
   ]
  },
  {
   "cell_type": "code",
   "execution_count": null,
   "id": "0c5ca4df-8371-47e5-9ce4-282195da837a",
   "metadata": {},
   "outputs": [],
   "source": [
    "analyte = \"Se\"\n",
    "window_size = 40\n",
    "\n",
    "# Replace -999 with NaN\n",
    "df_plot = df.replace(-999, np.nan)\n",
    "\n",
    "# Filter for routine samples only\n",
    "routine = df_plot[\"sampling_type\"] == \"R\"\n",
    "df_routine = df_plot[routine]\n",
    "\n",
    "# Resample to daily frequency (important if data is not daily)\n",
    "df_daily = df_routine[[analyte]].resample(\"D\").mean()\n",
    "\n",
    "# Calculate 30-day centered rolling mean, allowing minimum 1 value\n",
    "rolling_mean = df_daily[analyte].rolling(window=window_size, center=True, min_periods=1).mean()\n",
    "\n",
    "# Plot\n",
    "plt.figure(figsize=(12, 5))\n",
    "plt.plot(df_daily.index, df_daily[analyte], 'o', alpha=0.5, label=f'{analyte} (Daily Mean)')\n",
    "plt.plot(df_daily.index, rolling_mean, '-', linewidth=2, label=f'{analyte} ({window_size}-day Rolling Avg)')\n",
    "\n",
    "plt.xlabel('Date')\n",
    "plt.ylabel(f'{analyte} Concentration (ng/m$^3$)')\n",
    "plt.title(f'{analyte}: {window_size}-Day Centered Rolling Mean')\n",
    "plt.legend()\n",
    "plt.tight_layout()\n",
    "plt.show()\n"
   ]
  }
 ],
 "metadata": {
  "kernelspec": {
   "display_name": "Python 3 (ipykernel)",
   "language": "python",
   "name": "python3"
  },
  "language_info": {
   "codemirror_mode": {
    "name": "ipython",
    "version": 3
   },
   "file_extension": ".py",
   "mimetype": "text/x-python",
   "name": "python",
   "nbconvert_exporter": "python",
   "pygments_lexer": "ipython3",
   "version": "3.11.8"
  }
 },
 "nbformat": 4,
 "nbformat_minor": 5
}
