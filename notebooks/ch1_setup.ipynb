{
 "cells": [
  {
   "cell_type": "markdown",
   "id": "40e324d7-6813-4375-86a6-f23d4324ee83",
   "metadata": {},
   "source": [
    "# 1. Setup and Check\n",
    "\n",
    "This notebook provides code to:\n",
    "\n",
    "- obtain metadata for the NAPS dataset (e.g., station ID, location, reported species, etc.)\n",
    "- verify that your environment is properly set up for subsequent data analysis\n",
    "- demonstrate basic usage of pandas for working with tabular data\n",
    "\n",
    "---\n",
    "\n",
    "**💡 Tip for Beginners**\n",
    "\n",
    "If nothing happens when you try to run a cell:\n",
    "\n",
    "- Check if the **kernel is running** (top-right corner).\n",
    "- If it's unresponsive, go to **Kernel > Restart Kernel** and try again.\n",
    "\n",
    "---\n",
    "\n",
    "The cell below imports the required packages. Press ```Shift + Enter``` to run it."
   ]
  },
  {
   "cell_type": "code",
   "execution_count": null,
   "id": "35517d83-6f9e-4dd1-b9eb-a9efc94397ba",
   "metadata": {},
   "outputs": [],
   "source": [
    "import pandas as pd\n",
    "import sys\n",
    "from pathlib import Path\n",
    "\n",
    "# set project root\n",
    "sys.path.insert(0, str(Path.cwd().parent))\n",
    "\n",
    "from src.config import *\n",
    "from src.download_data import *\n",
    "from src.load_data import *"
   ]
  },
  {
   "cell_type": "markdown",
   "id": "2e6c0b3d-e7cf-4bff-b3d7-276b41b970dc",
   "metadata": {},
   "source": [
    "## 1.1. Download the Station Information\n",
    "\n",
    "The following function will download the NAPS stations information file to your local machine.\n",
    "\n",
    "<details>\n",
    "  <summary><strong>Optional: manual download (click to expand)</strong></summary>\n",
    "\n",
    "  If the automatic download fails, download the file manually:\n",
    "\n",
    "  1. Open [NAPS website](https://data-donnees.az.ec.gc.ca/data/air/monitor/national-air-pollution-surveillance-naps-program/)  \n",
    "  2. Navigate to `ProgramInformation-InformationProgramme/` → `StationsNAPS-StationsSNPA.xlsx`  \n",
    "  3. Save it to `../data/meta/`\n",
    "\n",
    "</details>"
   ]
  },
  {
   "cell_type": "code",
   "execution_count": null,
   "id": "0e07d2b7-44bc-48c8-8af5-350fb1e0f289",
   "metadata": {},
   "outputs": [],
   "source": [
    "download_station_file()\n"
   ]
  },
  {
   "cell_type": "markdown",
   "id": "3ed6504b-883f-4f6e-b040-e08cdbcddfc0",
   "metadata": {},
   "source": [
    "## 1.2. Check the File and Column Definitions\n",
    "\n",
    "If you're curious about what a column means (e.g., `Status`, `Carbonyl`, or `Core_Site`), you can look it up in the second worksheet of the Excel file.\n",
    "\n",
    "To do this:\n",
    "\n",
    "1. Open the file `../data/raw/StationsNAPS-StationsSNPA.xlsx` in Excel or another spreadsheet program.\n",
    "2. Go to the **second worksheet**.\n",
    "3. Look in the **first column** for the column name you're interested in (you can use Ctrl+F or ⌘+F to search).\n",
    "4. The **definition** will be shown in the second column next to it.\n",
    "\n",
    "This is a useful way to understand the contents of the station dataset before working with it.\n"
   ]
  },
  {
   "cell_type": "markdown",
   "id": "bf352ce7-0c05-42bf-9c18-c908406e9d80",
   "metadata": {},
   "source": [
    "## 1.3. Load the Station Information\n",
    "\n",
    "The following function will load the downloaded file into a DataFrame named `station_df`.\n",
    "\n",
    "Once loaded, we’ll explore the dataset using a few common pandas commands:\n",
    "\n",
    "- `.head()` — shows the first few rows\n",
    "- `.tail()` — shows the last few rows\n",
    "- `.info()` — gives a summary of the structure (columns, types, missing values, etc.)\n",
    "\n",
    "These commands help you get a quick sense of what the data looks like before you start analyzing it.\n"
   ]
  },
  {
   "cell_type": "code",
   "execution_count": null,
   "id": "e388b4ee-4f39-4fd6-a42a-3ca9d0cbe009",
   "metadata": {},
   "outputs": [],
   "source": [
    "station_df = load_station_data()\n",
    "\n",
    "# show first three rows\n",
    "display(station_df.head(3))\n"
   ]
  },
  {
   "cell_type": "code",
   "execution_count": null,
   "id": "b1e01489-4ca1-46ad-9f93-17187e381bc7",
   "metadata": {},
   "outputs": [],
   "source": [
    "# show final three rows\n",
    "display(station_df.tail(3))\n"
   ]
  },
  {
   "cell_type": "code",
   "execution_count": null,
   "id": "8373e281-5de1-4dd5-803a-05bcb740f7ba",
   "metadata": {},
   "outputs": [],
   "source": [
    "# show dtypes, non-null counts\n",
    "print(station_df.info())\n"
   ]
  },
  {
   "cell_type": "markdown",
   "id": "05382985-536d-4e66-b158-981dea901a5e",
   "metadata": {},
   "source": [
    "## 1.4. Explore the Station Data Yourself\n",
    "\n",
    "Now that we’ve loaded the station data into the `station_df` DataFrame, try exploring it on your own.\n",
    "\n",
    "Here are some useful things you can try:\n",
    "\n",
    "Count how many rows are in the dataset:\n",
    "\n",
    "```python\n",
    "len(station_df)\n",
    "```\n",
    "\n",
    "Look at all column names:\n",
    "\n",
    "```python\n",
    "station_df.columns\n",
    "```\n",
    "\n",
    "Count how many rows contain a specific word or phrase. For example, to find how many station names contain the word \"Vancouver\":\n",
    "\n",
    "```python\n",
    "station_df['Station_Name'].str.contains(\"Vancouver\", case=False, na=False).sum()\n",
    "```\n",
    "\n",
    "View the matching rows:\n",
    "```python\n",
    "station_df[station_df['Station_Name'].str.contains(\"Vancouver\", case=False, na=False)]\n",
    "```"
   ]
  },
  {
   "cell_type": "code",
   "execution_count": null,
   "id": "088c9ed0-fb93-418d-93b6-b84976ebd802",
   "metadata": {},
   "outputs": [],
   "source": [
    "# You can edit this code cell and/or add other code cells\n"
   ]
  },
  {
   "cell_type": "markdown",
   "id": "aeeaa177-2c3f-4ee8-b61a-5f481a424ff7",
   "metadata": {},
   "source": [
    "Please share something interesting you found with your team—such as a station name, an unexpected value, or a summary count.\n",
    "\n",
    "Feel free to try more than one column. Be curious!"
   ]
  },
  {
   "cell_type": "markdown",
   "id": "70ac7d9b-e339-45d4-9193-c92af2742445",
   "metadata": {},
   "source": [
    "## 1.5. Focus on Our Target Data\n",
    "\n",
    "We will focus on **core sites**, which provide more comprehensive data than other stations.\n",
    "\n",
    "> **Core sites** include a wide range of measurements at representative locations across Canada.  \n",
    "> - **Tier 1 (T1)** sites include PM2.5 speciation data.  \n",
    "> - **Tier 2 (T2)** sites include PM2.5 reference method (gravimetric) data.\n",
    "\n",
    "The code below filters for Tier 1 and Tier 2 core sites.\n"
   ]
  },
  {
   "cell_type": "code",
   "execution_count": null,
   "id": "e56078e6-cc60-40eb-8963-d9459e1ca1f6",
   "metadata": {
    "scrolled": true
   },
   "outputs": [],
   "source": [
    "# filter for Tier 1 and Tier 2 core sites\n",
    "core_df = station_df[station_df['Core_Site'].isin([1, 2])]\n",
    "\n",
    "# show the number of rows of the DataFrame that stores the data of core sites\n",
    "print('The number of core sites:', len(core_df))\n",
    "\n",
    "# show first three rows of the core site data\n",
    "display(core_df.head(3))\n"
   ]
  },
  {
   "cell_type": "markdown",
   "id": "a12d75c4-2464-4c3e-9a29-4e817364c4b9",
   "metadata": {},
   "source": [
    "Now, `core_df` contains only core monitoring sites.\n",
    "\n",
    "Next, let’s check if any of them are located in Burnaby by searching for stations whose names contain \"Burnaby\":\n"
   ]
  },
  {
   "cell_type": "code",
   "execution_count": null,
   "id": "93813333-1bbe-4ccc-8cb4-47aec42f75d3",
   "metadata": {},
   "outputs": [],
   "source": [
    "core_df[core_df['Station_Name'].str.contains(\"Burnaby\", case=False, na=False)]\n"
   ]
  },
  {
   "cell_type": "markdown",
   "id": "9a07c6c0-b75a-4028-a064-85ff97a71011",
   "metadata": {},
   "source": [
    "Therefore, we will use the data from the BURNABY SOUTH station (NAPS ID: 100119), as it is the only core site among the stations near Burnaby."
   ]
  }
 ],
 "metadata": {
  "kernelspec": {
   "display_name": "Python 3 (ipykernel)",
   "language": "python",
   "name": "python3"
  },
  "language_info": {
   "codemirror_mode": {
    "name": "ipython",
    "version": 3
   },
   "file_extension": ".py",
   "mimetype": "text/x-python",
   "name": "python",
   "nbconvert_exporter": "python",
   "pygments_lexer": "ipython3",
   "version": "3.11.8"
  }
 },
 "nbformat": 4,
 "nbformat_minor": 5
}
